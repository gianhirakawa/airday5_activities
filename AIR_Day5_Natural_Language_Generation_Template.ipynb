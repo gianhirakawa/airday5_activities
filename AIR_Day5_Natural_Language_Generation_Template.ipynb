{
  "cells": [
    {
      "cell_type": "code",
      "source": [
        "!pip install openai==0.28.1\n",
        "!pip install fpdf==1.7.2"
      ],
      "metadata": {
        "id": "lataKYH3l-T1",
        "colab": {
          "base_uri": "https://localhost:8080/"
        },
        "outputId": "f7453f07-2e51-4b8f-f4f5-0070323bb2ba"
      },
      "id": "lataKYH3l-T1",
      "execution_count": 1,
      "outputs": [
        {
          "output_type": "stream",
          "name": "stdout",
          "text": [
            "Collecting openai==0.28.1\n",
            "  Downloading openai-0.28.1-py3-none-any.whl.metadata (11 kB)\n",
            "Requirement already satisfied: requests>=2.20 in /usr/local/lib/python3.10/dist-packages (from openai==0.28.1) (2.32.3)\n",
            "Requirement already satisfied: tqdm in /usr/local/lib/python3.10/dist-packages (from openai==0.28.1) (4.66.6)\n",
            "Requirement already satisfied: aiohttp in /usr/local/lib/python3.10/dist-packages (from openai==0.28.1) (3.10.10)\n",
            "Requirement already satisfied: charset-normalizer<4,>=2 in /usr/local/lib/python3.10/dist-packages (from requests>=2.20->openai==0.28.1) (3.4.0)\n",
            "Requirement already satisfied: idna<4,>=2.5 in /usr/local/lib/python3.10/dist-packages (from requests>=2.20->openai==0.28.1) (3.10)\n",
            "Requirement already satisfied: urllib3<3,>=1.21.1 in /usr/local/lib/python3.10/dist-packages (from requests>=2.20->openai==0.28.1) (2.2.3)\n",
            "Requirement already satisfied: certifi>=2017.4.17 in /usr/local/lib/python3.10/dist-packages (from requests>=2.20->openai==0.28.1) (2024.8.30)\n",
            "Requirement already satisfied: aiohappyeyeballs>=2.3.0 in /usr/local/lib/python3.10/dist-packages (from aiohttp->openai==0.28.1) (2.4.3)\n",
            "Requirement already satisfied: aiosignal>=1.1.2 in /usr/local/lib/python3.10/dist-packages (from aiohttp->openai==0.28.1) (1.3.1)\n",
            "Requirement already satisfied: attrs>=17.3.0 in /usr/local/lib/python3.10/dist-packages (from aiohttp->openai==0.28.1) (24.2.0)\n",
            "Requirement already satisfied: frozenlist>=1.1.1 in /usr/local/lib/python3.10/dist-packages (from aiohttp->openai==0.28.1) (1.5.0)\n",
            "Requirement already satisfied: multidict<7.0,>=4.5 in /usr/local/lib/python3.10/dist-packages (from aiohttp->openai==0.28.1) (6.1.0)\n",
            "Requirement already satisfied: yarl<2.0,>=1.12.0 in /usr/local/lib/python3.10/dist-packages (from aiohttp->openai==0.28.1) (1.17.1)\n",
            "Requirement already satisfied: async-timeout<5.0,>=4.0 in /usr/local/lib/python3.10/dist-packages (from aiohttp->openai==0.28.1) (4.0.3)\n",
            "Requirement already satisfied: typing-extensions>=4.1.0 in /usr/local/lib/python3.10/dist-packages (from multidict<7.0,>=4.5->aiohttp->openai==0.28.1) (4.12.2)\n",
            "Requirement already satisfied: propcache>=0.2.0 in /usr/local/lib/python3.10/dist-packages (from yarl<2.0,>=1.12.0->aiohttp->openai==0.28.1) (0.2.0)\n",
            "Downloading openai-0.28.1-py3-none-any.whl (76 kB)\n",
            "\u001b[2K   \u001b[90m━━━━━━━━━━━━━━━━━━━━━━━━━━━━━━━━━━━━━━━━\u001b[0m \u001b[32m77.0/77.0 kB\u001b[0m \u001b[31m1.6 MB/s\u001b[0m eta \u001b[36m0:00:00\u001b[0m\n",
            "\u001b[?25hInstalling collected packages: openai\n",
            "  Attempting uninstall: openai\n",
            "    Found existing installation: openai 1.54.4\n",
            "    Uninstalling openai-1.54.4:\n",
            "      Successfully uninstalled openai-1.54.4\n",
            "Successfully installed openai-0.28.1\n",
            "Collecting fpdf==1.7.2\n",
            "  Downloading fpdf-1.7.2.tar.gz (39 kB)\n",
            "  Preparing metadata (setup.py) ... \u001b[?25l\u001b[?25hdone\n",
            "Building wheels for collected packages: fpdf\n",
            "  Building wheel for fpdf (setup.py) ... \u001b[?25l\u001b[?25hdone\n",
            "  Created wheel for fpdf: filename=fpdf-1.7.2-py2.py3-none-any.whl size=40704 sha256=d3f6b2bede9826ff4543ef1063dce71ad092726117e35716e5284e7c1aa60b25\n",
            "  Stored in directory: /root/.cache/pip/wheels/f9/95/ba/f418094659025eb9611f17cbcaf2334236bf39a0c3453ea455\n",
            "Successfully built fpdf\n",
            "Installing collected packages: fpdf\n",
            "Successfully installed fpdf-1.7.2\n"
          ]
        }
      ]
    },
    {
      "cell_type": "code",
      "execution_count": 3,
      "id": "48ef5895-994b-4287-be64-6bfc2d5cea03",
      "metadata": {
        "id": "48ef5895-994b-4287-be64-6bfc2d5cea03"
      },
      "outputs": [],
      "source": [
        "import pandas as pd\n",
        "import openai\n",
        "import time\n",
        "from fpdf import FPDF\n",
        "\n",
        "from google.colab import userdata\n",
        "\n",
        "openai.api_key = userdata.get('AIR_Key')"
      ]
    },
    {
      "cell_type": "markdown",
      "source": [
        "## Load the dataset"
      ],
      "metadata": {
        "id": "71nyWCPo9mui"
      },
      "id": "71nyWCPo9mui"
    },
    {
      "cell_type": "code",
      "source": [
        "df = pd.read_csv('https://raw.githubusercontent.com/gianhirakawa/airday4RAGactivity-/refs/heads/master/motorcycle_courier_data.csv')\n",
        "df.head()"
      ],
      "metadata": {
        "id": "iNEtAbnJma2J",
        "colab": {
          "base_uri": "https://localhost:8080/",
          "height": 487
        },
        "outputId": "49c76857-69ef-4ea0-ccaf-0e8c9e98fe65"
      },
      "id": "iNEtAbnJma2J",
      "execution_count": 4,
      "outputs": [
        {
          "output_type": "execute_result",
          "data": {
            "text/plain": [
              "      Service Type              Time Pick-up Point Destination (Drop-off)  \\\n",
              "0  Parcel Delivery  12/11/2024 11:47           BGC                  Pasig   \n",
              "1  Parcel Delivery   12/11/2024 9:57      San Juan               Caloocan   \n",
              "2    Food Delivery   11/11/2024 4:53       Binondo                 Manila   \n",
              "3    Food Delivery  10/11/2024 15:30        Malate            Quezon City   \n",
              "4  Parcel Delivery   10/11/2024 8:20        Malate            Quezon City   \n",
              "\n",
              "  Booking ID  Duration (minutes)   Customer Name Customer Address  \\\n",
              "0   BKG17455               73.77    Ana De Jesus   789 Burgos St.   \n",
              "1   BKG64506               67.77   Miguel Garcia     10 Rizal Dr.   \n",
              "2   BKG50146               77.52  Juan Dela Cruz     123 Main St.   \n",
              "3   BKG34424               17.88        Mark Tan     123 Main St.   \n",
              "4   BKG73399               78.69  Lisa Macapagal  456 Market Ave.   \n",
              "\n",
              "   Customer Mobile  Recipient Name Recipient Address  Recipient Mobile  \\\n",
              "0       9198765432        Mark Tan      123 Main St.      9.217654e+09   \n",
              "1       9234567890  Juan Dela Cruz      10 Rizal Dr.      9.198765e+09   \n",
              "2       9127654321             NaN               NaN               NaN   \n",
              "3       9198765432             NaN               NaN               NaN   \n",
              "4       9234567890   Miguel Garcia      123 Main St.      9.123457e+09   \n",
              "\n",
              "  Product Type                                      Description  \\\n",
              "0        Shoes                           Size 9 sneakers, white   \n",
              "1    Documents                      Confidential file documents   \n",
              "2  Mang Inasal                                        Halo-Halo   \n",
              "3        Max's  Fried Chicken, Pancit Canton, Lumpiang Shanghai   \n",
              "4  Electronics                          Smartphone with charger   \n",
              "\n",
              "                        Status  Distance (km) Driver Rating  Price (PHP)  \\\n",
              "0  On the way to Pick-up Point          13.47       Pending       262.37   \n",
              "1                   In-transit          10.21       Pending       168.86   \n",
              "2                    Completed          11.82           3.2       252.85   \n",
              "3                    Completed          17.90           3.8       322.93   \n",
              "4                    Completed          16.22           3.6       277.24   \n",
              "\n",
              "   Driver's Cut  App's Cut  \n",
              "0        209.90      52.47  \n",
              "1        135.09      33.77  \n",
              "2        202.28      50.57  \n",
              "3        258.34      64.59  \n",
              "4        221.79      55.45  "
            ],
            "text/html": [
              "\n",
              "  <div id=\"df-0a27bf86-7f72-4750-9539-09f8f81ef7a4\" class=\"colab-df-container\">\n",
              "    <div>\n",
              "<style scoped>\n",
              "    .dataframe tbody tr th:only-of-type {\n",
              "        vertical-align: middle;\n",
              "    }\n",
              "\n",
              "    .dataframe tbody tr th {\n",
              "        vertical-align: top;\n",
              "    }\n",
              "\n",
              "    .dataframe thead th {\n",
              "        text-align: right;\n",
              "    }\n",
              "</style>\n",
              "<table border=\"1\" class=\"dataframe\">\n",
              "  <thead>\n",
              "    <tr style=\"text-align: right;\">\n",
              "      <th></th>\n",
              "      <th>Service Type</th>\n",
              "      <th>Time</th>\n",
              "      <th>Pick-up Point</th>\n",
              "      <th>Destination (Drop-off)</th>\n",
              "      <th>Booking ID</th>\n",
              "      <th>Duration (minutes)</th>\n",
              "      <th>Customer Name</th>\n",
              "      <th>Customer Address</th>\n",
              "      <th>Customer Mobile</th>\n",
              "      <th>Recipient Name</th>\n",
              "      <th>Recipient Address</th>\n",
              "      <th>Recipient Mobile</th>\n",
              "      <th>Product Type</th>\n",
              "      <th>Description</th>\n",
              "      <th>Status</th>\n",
              "      <th>Distance (km)</th>\n",
              "      <th>Driver Rating</th>\n",
              "      <th>Price (PHP)</th>\n",
              "      <th>Driver's Cut</th>\n",
              "      <th>App's Cut</th>\n",
              "    </tr>\n",
              "  </thead>\n",
              "  <tbody>\n",
              "    <tr>\n",
              "      <th>0</th>\n",
              "      <td>Parcel Delivery</td>\n",
              "      <td>12/11/2024 11:47</td>\n",
              "      <td>BGC</td>\n",
              "      <td>Pasig</td>\n",
              "      <td>BKG17455</td>\n",
              "      <td>73.77</td>\n",
              "      <td>Ana De Jesus</td>\n",
              "      <td>789 Burgos St.</td>\n",
              "      <td>9198765432</td>\n",
              "      <td>Mark Tan</td>\n",
              "      <td>123 Main St.</td>\n",
              "      <td>9.217654e+09</td>\n",
              "      <td>Shoes</td>\n",
              "      <td>Size 9 sneakers, white</td>\n",
              "      <td>On the way to Pick-up Point</td>\n",
              "      <td>13.47</td>\n",
              "      <td>Pending</td>\n",
              "      <td>262.37</td>\n",
              "      <td>209.90</td>\n",
              "      <td>52.47</td>\n",
              "    </tr>\n",
              "    <tr>\n",
              "      <th>1</th>\n",
              "      <td>Parcel Delivery</td>\n",
              "      <td>12/11/2024 9:57</td>\n",
              "      <td>San Juan</td>\n",
              "      <td>Caloocan</td>\n",
              "      <td>BKG64506</td>\n",
              "      <td>67.77</td>\n",
              "      <td>Miguel Garcia</td>\n",
              "      <td>10 Rizal Dr.</td>\n",
              "      <td>9234567890</td>\n",
              "      <td>Juan Dela Cruz</td>\n",
              "      <td>10 Rizal Dr.</td>\n",
              "      <td>9.198765e+09</td>\n",
              "      <td>Documents</td>\n",
              "      <td>Confidential file documents</td>\n",
              "      <td>In-transit</td>\n",
              "      <td>10.21</td>\n",
              "      <td>Pending</td>\n",
              "      <td>168.86</td>\n",
              "      <td>135.09</td>\n",
              "      <td>33.77</td>\n",
              "    </tr>\n",
              "    <tr>\n",
              "      <th>2</th>\n",
              "      <td>Food Delivery</td>\n",
              "      <td>11/11/2024 4:53</td>\n",
              "      <td>Binondo</td>\n",
              "      <td>Manila</td>\n",
              "      <td>BKG50146</td>\n",
              "      <td>77.52</td>\n",
              "      <td>Juan Dela Cruz</td>\n",
              "      <td>123 Main St.</td>\n",
              "      <td>9127654321</td>\n",
              "      <td>NaN</td>\n",
              "      <td>NaN</td>\n",
              "      <td>NaN</td>\n",
              "      <td>Mang Inasal</td>\n",
              "      <td>Halo-Halo</td>\n",
              "      <td>Completed</td>\n",
              "      <td>11.82</td>\n",
              "      <td>3.2</td>\n",
              "      <td>252.85</td>\n",
              "      <td>202.28</td>\n",
              "      <td>50.57</td>\n",
              "    </tr>\n",
              "    <tr>\n",
              "      <th>3</th>\n",
              "      <td>Food Delivery</td>\n",
              "      <td>10/11/2024 15:30</td>\n",
              "      <td>Malate</td>\n",
              "      <td>Quezon City</td>\n",
              "      <td>BKG34424</td>\n",
              "      <td>17.88</td>\n",
              "      <td>Mark Tan</td>\n",
              "      <td>123 Main St.</td>\n",
              "      <td>9198765432</td>\n",
              "      <td>NaN</td>\n",
              "      <td>NaN</td>\n",
              "      <td>NaN</td>\n",
              "      <td>Max's</td>\n",
              "      <td>Fried Chicken, Pancit Canton, Lumpiang Shanghai</td>\n",
              "      <td>Completed</td>\n",
              "      <td>17.90</td>\n",
              "      <td>3.8</td>\n",
              "      <td>322.93</td>\n",
              "      <td>258.34</td>\n",
              "      <td>64.59</td>\n",
              "    </tr>\n",
              "    <tr>\n",
              "      <th>4</th>\n",
              "      <td>Parcel Delivery</td>\n",
              "      <td>10/11/2024 8:20</td>\n",
              "      <td>Malate</td>\n",
              "      <td>Quezon City</td>\n",
              "      <td>BKG73399</td>\n",
              "      <td>78.69</td>\n",
              "      <td>Lisa Macapagal</td>\n",
              "      <td>456 Market Ave.</td>\n",
              "      <td>9234567890</td>\n",
              "      <td>Miguel Garcia</td>\n",
              "      <td>123 Main St.</td>\n",
              "      <td>9.123457e+09</td>\n",
              "      <td>Electronics</td>\n",
              "      <td>Smartphone with charger</td>\n",
              "      <td>Completed</td>\n",
              "      <td>16.22</td>\n",
              "      <td>3.6</td>\n",
              "      <td>277.24</td>\n",
              "      <td>221.79</td>\n",
              "      <td>55.45</td>\n",
              "    </tr>\n",
              "  </tbody>\n",
              "</table>\n",
              "</div>\n",
              "    <div class=\"colab-df-buttons\">\n",
              "\n",
              "  <div class=\"colab-df-container\">\n",
              "    <button class=\"colab-df-convert\" onclick=\"convertToInteractive('df-0a27bf86-7f72-4750-9539-09f8f81ef7a4')\"\n",
              "            title=\"Convert this dataframe to an interactive table.\"\n",
              "            style=\"display:none;\">\n",
              "\n",
              "  <svg xmlns=\"http://www.w3.org/2000/svg\" height=\"24px\" viewBox=\"0 -960 960 960\">\n",
              "    <path d=\"M120-120v-720h720v720H120Zm60-500h600v-160H180v160Zm220 220h160v-160H400v160Zm0 220h160v-160H400v160ZM180-400h160v-160H180v160Zm440 0h160v-160H620v160ZM180-180h160v-160H180v160Zm440 0h160v-160H620v160Z\"/>\n",
              "  </svg>\n",
              "    </button>\n",
              "\n",
              "  <style>\n",
              "    .colab-df-container {\n",
              "      display:flex;\n",
              "      gap: 12px;\n",
              "    }\n",
              "\n",
              "    .colab-df-convert {\n",
              "      background-color: #E8F0FE;\n",
              "      border: none;\n",
              "      border-radius: 50%;\n",
              "      cursor: pointer;\n",
              "      display: none;\n",
              "      fill: #1967D2;\n",
              "      height: 32px;\n",
              "      padding: 0 0 0 0;\n",
              "      width: 32px;\n",
              "    }\n",
              "\n",
              "    .colab-df-convert:hover {\n",
              "      background-color: #E2EBFA;\n",
              "      box-shadow: 0px 1px 2px rgba(60, 64, 67, 0.3), 0px 1px 3px 1px rgba(60, 64, 67, 0.15);\n",
              "      fill: #174EA6;\n",
              "    }\n",
              "\n",
              "    .colab-df-buttons div {\n",
              "      margin-bottom: 4px;\n",
              "    }\n",
              "\n",
              "    [theme=dark] .colab-df-convert {\n",
              "      background-color: #3B4455;\n",
              "      fill: #D2E3FC;\n",
              "    }\n",
              "\n",
              "    [theme=dark] .colab-df-convert:hover {\n",
              "      background-color: #434B5C;\n",
              "      box-shadow: 0px 1px 3px 1px rgba(0, 0, 0, 0.15);\n",
              "      filter: drop-shadow(0px 1px 2px rgba(0, 0, 0, 0.3));\n",
              "      fill: #FFFFFF;\n",
              "    }\n",
              "  </style>\n",
              "\n",
              "    <script>\n",
              "      const buttonEl =\n",
              "        document.querySelector('#df-0a27bf86-7f72-4750-9539-09f8f81ef7a4 button.colab-df-convert');\n",
              "      buttonEl.style.display =\n",
              "        google.colab.kernel.accessAllowed ? 'block' : 'none';\n",
              "\n",
              "      async function convertToInteractive(key) {\n",
              "        const element = document.querySelector('#df-0a27bf86-7f72-4750-9539-09f8f81ef7a4');\n",
              "        const dataTable =\n",
              "          await google.colab.kernel.invokeFunction('convertToInteractive',\n",
              "                                                    [key], {});\n",
              "        if (!dataTable) return;\n",
              "\n",
              "        const docLinkHtml = 'Like what you see? Visit the ' +\n",
              "          '<a target=\"_blank\" href=https://colab.research.google.com/notebooks/data_table.ipynb>data table notebook</a>'\n",
              "          + ' to learn more about interactive tables.';\n",
              "        element.innerHTML = '';\n",
              "        dataTable['output_type'] = 'display_data';\n",
              "        await google.colab.output.renderOutput(dataTable, element);\n",
              "        const docLink = document.createElement('div');\n",
              "        docLink.innerHTML = docLinkHtml;\n",
              "        element.appendChild(docLink);\n",
              "      }\n",
              "    </script>\n",
              "  </div>\n",
              "\n",
              "\n",
              "<div id=\"df-78cce3b1-c0a8-4643-9d2d-577078c59db3\">\n",
              "  <button class=\"colab-df-quickchart\" onclick=\"quickchart('df-78cce3b1-c0a8-4643-9d2d-577078c59db3')\"\n",
              "            title=\"Suggest charts\"\n",
              "            style=\"display:none;\">\n",
              "\n",
              "<svg xmlns=\"http://www.w3.org/2000/svg\" height=\"24px\"viewBox=\"0 0 24 24\"\n",
              "     width=\"24px\">\n",
              "    <g>\n",
              "        <path d=\"M19 3H5c-1.1 0-2 .9-2 2v14c0 1.1.9 2 2 2h14c1.1 0 2-.9 2-2V5c0-1.1-.9-2-2-2zM9 17H7v-7h2v7zm4 0h-2V7h2v10zm4 0h-2v-4h2v4z\"/>\n",
              "    </g>\n",
              "</svg>\n",
              "  </button>\n",
              "\n",
              "<style>\n",
              "  .colab-df-quickchart {\n",
              "      --bg-color: #E8F0FE;\n",
              "      --fill-color: #1967D2;\n",
              "      --hover-bg-color: #E2EBFA;\n",
              "      --hover-fill-color: #174EA6;\n",
              "      --disabled-fill-color: #AAA;\n",
              "      --disabled-bg-color: #DDD;\n",
              "  }\n",
              "\n",
              "  [theme=dark] .colab-df-quickchart {\n",
              "      --bg-color: #3B4455;\n",
              "      --fill-color: #D2E3FC;\n",
              "      --hover-bg-color: #434B5C;\n",
              "      --hover-fill-color: #FFFFFF;\n",
              "      --disabled-bg-color: #3B4455;\n",
              "      --disabled-fill-color: #666;\n",
              "  }\n",
              "\n",
              "  .colab-df-quickchart {\n",
              "    background-color: var(--bg-color);\n",
              "    border: none;\n",
              "    border-radius: 50%;\n",
              "    cursor: pointer;\n",
              "    display: none;\n",
              "    fill: var(--fill-color);\n",
              "    height: 32px;\n",
              "    padding: 0;\n",
              "    width: 32px;\n",
              "  }\n",
              "\n",
              "  .colab-df-quickchart:hover {\n",
              "    background-color: var(--hover-bg-color);\n",
              "    box-shadow: 0 1px 2px rgba(60, 64, 67, 0.3), 0 1px 3px 1px rgba(60, 64, 67, 0.15);\n",
              "    fill: var(--button-hover-fill-color);\n",
              "  }\n",
              "\n",
              "  .colab-df-quickchart-complete:disabled,\n",
              "  .colab-df-quickchart-complete:disabled:hover {\n",
              "    background-color: var(--disabled-bg-color);\n",
              "    fill: var(--disabled-fill-color);\n",
              "    box-shadow: none;\n",
              "  }\n",
              "\n",
              "  .colab-df-spinner {\n",
              "    border: 2px solid var(--fill-color);\n",
              "    border-color: transparent;\n",
              "    border-bottom-color: var(--fill-color);\n",
              "    animation:\n",
              "      spin 1s steps(1) infinite;\n",
              "  }\n",
              "\n",
              "  @keyframes spin {\n",
              "    0% {\n",
              "      border-color: transparent;\n",
              "      border-bottom-color: var(--fill-color);\n",
              "      border-left-color: var(--fill-color);\n",
              "    }\n",
              "    20% {\n",
              "      border-color: transparent;\n",
              "      border-left-color: var(--fill-color);\n",
              "      border-top-color: var(--fill-color);\n",
              "    }\n",
              "    30% {\n",
              "      border-color: transparent;\n",
              "      border-left-color: var(--fill-color);\n",
              "      border-top-color: var(--fill-color);\n",
              "      border-right-color: var(--fill-color);\n",
              "    }\n",
              "    40% {\n",
              "      border-color: transparent;\n",
              "      border-right-color: var(--fill-color);\n",
              "      border-top-color: var(--fill-color);\n",
              "    }\n",
              "    60% {\n",
              "      border-color: transparent;\n",
              "      border-right-color: var(--fill-color);\n",
              "    }\n",
              "    80% {\n",
              "      border-color: transparent;\n",
              "      border-right-color: var(--fill-color);\n",
              "      border-bottom-color: var(--fill-color);\n",
              "    }\n",
              "    90% {\n",
              "      border-color: transparent;\n",
              "      border-bottom-color: var(--fill-color);\n",
              "    }\n",
              "  }\n",
              "</style>\n",
              "\n",
              "  <script>\n",
              "    async function quickchart(key) {\n",
              "      const quickchartButtonEl =\n",
              "        document.querySelector('#' + key + ' button');\n",
              "      quickchartButtonEl.disabled = true;  // To prevent multiple clicks.\n",
              "      quickchartButtonEl.classList.add('colab-df-spinner');\n",
              "      try {\n",
              "        const charts = await google.colab.kernel.invokeFunction(\n",
              "            'suggestCharts', [key], {});\n",
              "      } catch (error) {\n",
              "        console.error('Error during call to suggestCharts:', error);\n",
              "      }\n",
              "      quickchartButtonEl.classList.remove('colab-df-spinner');\n",
              "      quickchartButtonEl.classList.add('colab-df-quickchart-complete');\n",
              "    }\n",
              "    (() => {\n",
              "      let quickchartButtonEl =\n",
              "        document.querySelector('#df-78cce3b1-c0a8-4643-9d2d-577078c59db3 button');\n",
              "      quickchartButtonEl.style.display =\n",
              "        google.colab.kernel.accessAllowed ? 'block' : 'none';\n",
              "    })();\n",
              "  </script>\n",
              "</div>\n",
              "\n",
              "    </div>\n",
              "  </div>\n"
            ],
            "application/vnd.google.colaboratory.intrinsic+json": {
              "type": "dataframe",
              "variable_name": "df",
              "summary": "{\n  \"name\": \"df\",\n  \"rows\": 20,\n  \"fields\": [\n    {\n      \"column\": \"Service Type\",\n      \"properties\": {\n        \"dtype\": \"category\",\n        \"num_unique_values\": 3,\n        \"samples\": [\n          \"Parcel Delivery\",\n          \"Food Delivery\",\n          \"Customer Transportation\"\n        ],\n        \"semantic_type\": \"\",\n        \"description\": \"\"\n      }\n    },\n    {\n      \"column\": \"Time\",\n      \"properties\": {\n        \"dtype\": \"object\",\n        \"num_unique_values\": 20,\n        \"samples\": [\n          \"12/11/2024 11:47\",\n          \"06/11/2024 2:36\",\n          \"06/11/2024 18:41\"\n        ],\n        \"semantic_type\": \"\",\n        \"description\": \"\"\n      }\n    },\n    {\n      \"column\": \"Pick-up Point\",\n      \"properties\": {\n        \"dtype\": \"category\",\n        \"num_unique_values\": 7,\n        \"samples\": [\n          \"BGC\",\n          \"San Juan\",\n          \"Sta. Ana\"\n        ],\n        \"semantic_type\": \"\",\n        \"description\": \"\"\n      }\n    },\n    {\n      \"column\": \"Destination (Drop-off)\",\n      \"properties\": {\n        \"dtype\": \"category\",\n        \"num_unique_values\": 8,\n        \"samples\": [\n          \"Caloocan\",\n          \"Las Pinas\",\n          \"Pasig\"\n        ],\n        \"semantic_type\": \"\",\n        \"description\": \"\"\n      }\n    },\n    {\n      \"column\": \"Booking ID\",\n      \"properties\": {\n        \"dtype\": \"string\",\n        \"num_unique_values\": 20,\n        \"samples\": [\n          \"BKG17455\",\n          \"BKG65872\",\n          \"BKG36772\"\n        ],\n        \"semantic_type\": \"\",\n        \"description\": \"\"\n      }\n    },\n    {\n      \"column\": \"Duration (minutes)\",\n      \"properties\": {\n        \"dtype\": \"number\",\n        \"std\": 27.33731744337765,\n        \"min\": 17.88,\n        \"max\": 109.99,\n        \"num_unique_values\": 20,\n        \"samples\": [\n          73.77,\n          47.61,\n          25.72\n        ],\n        \"semantic_type\": \"\",\n        \"description\": \"\"\n      }\n    },\n    {\n      \"column\": \"Customer Name\",\n      \"properties\": {\n        \"dtype\": \"string\",\n        \"num_unique_values\": 10,\n        \"samples\": [\n          \"Pedro Reyes\",\n          \"Miguel Garcia\",\n          \"Liza Lim\"\n        ],\n        \"semantic_type\": \"\",\n        \"description\": \"\"\n      }\n    },\n    {\n      \"column\": \"Customer Address\",\n      \"properties\": {\n        \"dtype\": \"category\",\n        \"num_unique_values\": 5,\n        \"samples\": [\n          \"10 Rizal Dr.\",\n          \"89 Kalayaan Rd.\",\n          \"123 Main St.\"\n        ],\n        \"semantic_type\": \"\",\n        \"description\": \"\"\n      }\n    },\n    {\n      \"column\": \"Customer Mobile\",\n      \"properties\": {\n        \"dtype\": \"number\",\n        \"std\": 46345248,\n        \"min\": 9123456789,\n        \"max\": 9234567890,\n        \"num_unique_values\": 5,\n        \"samples\": [\n          9234567890,\n          9217654329,\n          9127654321\n        ],\n        \"semantic_type\": \"\",\n        \"description\": \"\"\n      }\n    },\n    {\n      \"column\": \"Recipient Name\",\n      \"properties\": {\n        \"dtype\": \"category\",\n        \"num_unique_values\": 4,\n        \"samples\": [\n          \"Juan Dela Cruz\",\n          \"Liza Lim\",\n          \"Mark Tan\"\n        ],\n        \"semantic_type\": \"\",\n        \"description\": \"\"\n      }\n    },\n    {\n      \"column\": \"Recipient Address\",\n      \"properties\": {\n        \"dtype\": \"category\",\n        \"num_unique_values\": 5,\n        \"samples\": [\n          \"10 Rizal Dr.\",\n          \"456 Market Ave.\",\n          \"89 Kalayaan Rd.\"\n        ],\n        \"semantic_type\": \"\",\n        \"description\": \"\"\n      }\n    },\n    {\n      \"column\": \"Recipient Mobile\",\n      \"properties\": {\n        \"dtype\": \"number\",\n        \"std\": 37732854.65674403,\n        \"min\": 9123456789.0,\n        \"max\": 9217654329.0,\n        \"num_unique_values\": 4,\n        \"samples\": [\n          9198765432.0,\n          9127654321.0,\n          9217654329.0\n        ],\n        \"semantic_type\": \"\",\n        \"description\": \"\"\n      }\n    },\n    {\n      \"column\": \"Product Type\",\n      \"properties\": {\n        \"dtype\": \"category\",\n        \"num_unique_values\": 8,\n        \"samples\": [\n          \"Documents\",\n          \"Jollibee\",\n          \"Shoes\"\n        ],\n        \"semantic_type\": \"\",\n        \"description\": \"\"\n      }\n    },\n    {\n      \"column\": \"Description\",\n      \"properties\": {\n        \"dtype\": \"string\",\n        \"num_unique_values\": 13,\n        \"samples\": [\n          \"McFlurry, Big Mac, Fries\",\n          \"Lumpiang Shanghai, Fried Chicken, Pancit Canton\",\n          \"Size 9 sneakers, white\"\n        ],\n        \"semantic_type\": \"\",\n        \"description\": \"\"\n      }\n    },\n    {\n      \"column\": \"Status\",\n      \"properties\": {\n        \"dtype\": \"category\",\n        \"num_unique_values\": 3,\n        \"samples\": [\n          \"On the way to Pick-up Point\",\n          \"In-transit\",\n          \"Completed\"\n        ],\n        \"semantic_type\": \"\",\n        \"description\": \"\"\n      }\n    },\n    {\n      \"column\": \"Distance (km)\",\n      \"properties\": {\n        \"dtype\": \"number\",\n        \"std\": 5.696432493929401,\n        \"min\": 2.42,\n        \"max\": 18.78,\n        \"num_unique_values\": 20,\n        \"samples\": [\n          13.47,\n          2.69,\n          12.42\n        ],\n        \"semantic_type\": \"\",\n        \"description\": \"\"\n      }\n    },\n    {\n      \"column\": \"Driver Rating\",\n      \"properties\": {\n        \"dtype\": \"string\",\n        \"num_unique_values\": 11,\n        \"samples\": [\n          \"4.5\",\n          \"Pending\",\n          \"4.1\"\n        ],\n        \"semantic_type\": \"\",\n        \"description\": \"\"\n      }\n    },\n    {\n      \"column\": \"Price (PHP)\",\n      \"properties\": {\n        \"dtype\": \"number\",\n        \"std\": 107.66124648026424,\n        \"min\": 77.06,\n        \"max\": 396.49,\n        \"num_unique_values\": 20,\n        \"samples\": [\n          262.37,\n          86.28,\n          253.99\n        ],\n        \"semantic_type\": \"\",\n        \"description\": \"\"\n      }\n    },\n    {\n      \"column\": \"Driver's Cut\",\n      \"properties\": {\n        \"dtype\": \"number\",\n        \"std\": 86.12860268837892,\n        \"min\": 61.65,\n        \"max\": 317.19,\n        \"num_unique_values\": 19,\n        \"samples\": [\n          209.9,\n          273.41,\n          109.6\n        ],\n        \"semantic_type\": \"\",\n        \"description\": \"\"\n      }\n    },\n    {\n      \"column\": \"App's Cut\",\n      \"properties\": {\n        \"dtype\": \"number\",\n        \"std\": 21.532643981687553,\n        \"min\": 15.41,\n        \"max\": 79.3,\n        \"num_unique_values\": 20,\n        \"samples\": [\n          52.47,\n          17.26,\n          50.8\n        ],\n        \"semantic_type\": \"\",\n        \"description\": \"\"\n      }\n    }\n  ]\n}"
            }
          },
          "metadata": {},
          "execution_count": 4
        }
      ]
    },
    {
      "cell_type": "markdown",
      "source": [
        "## Understanding the Dataset"
      ],
      "metadata": {
        "id": "QusTNnFu92Jx"
      },
      "id": "QusTNnFu92Jx"
    },
    {
      "cell_type": "code",
      "source": [
        "# Get Column Names and Data Types\n",
        "column_info = df.dtypes\n",
        "print(column_info, \"\\n\")\n"
      ],
      "metadata": {
        "id": "xTpEc-cd8-_l",
        "colab": {
          "base_uri": "https://localhost:8080/"
        },
        "outputId": "d613a0b0-70b6-4e9c-b11d-b38a4fa004a3"
      },
      "id": "xTpEc-cd8-_l",
      "execution_count": 5,
      "outputs": [
        {
          "output_type": "stream",
          "name": "stdout",
          "text": [
            "Service Type               object\n",
            "Time                       object\n",
            "Pick-up Point              object\n",
            "Destination (Drop-off)     object\n",
            "Booking ID                 object\n",
            "Duration (minutes)        float64\n",
            "Customer Name              object\n",
            "Customer Address           object\n",
            "Customer Mobile             int64\n",
            "Recipient Name             object\n",
            "Recipient Address          object\n",
            "Recipient Mobile          float64\n",
            "Product Type               object\n",
            "Description                object\n",
            "Status                     object\n",
            "Distance (km)             float64\n",
            "Driver Rating              object\n",
            "Price (PHP)               float64\n",
            "Driver's Cut              float64\n",
            "App's Cut                 float64\n",
            "dtype: object \n",
            "\n"
          ]
        }
      ]
    },
    {
      "cell_type": "code",
      "source": [
        "# Identify Categorical and Numerical Features\n",
        "categorical_features = df.select_dtypes(include=['object']).columns\n",
        "numerical_features = df.select_dtypes(include=['int64', 'float64']).columns\n",
        "\n",
        "print(\"Categorical Features:\", categorical_features)\n",
        "print(\"Numerical Features:\", numerical_features)\n",
        "\n"
      ],
      "metadata": {
        "id": "0TYP9kiM-E0W",
        "colab": {
          "base_uri": "https://localhost:8080/"
        },
        "outputId": "007d867f-611f-4b93-9a73-b9df1e692b47"
      },
      "id": "0TYP9kiM-E0W",
      "execution_count": 6,
      "outputs": [
        {
          "output_type": "stream",
          "name": "stdout",
          "text": [
            "Categorical Features: Index(['Service Type', 'Time', 'Pick-up Point', 'Destination (Drop-off)',\n",
            "       'Booking ID', 'Customer Name', 'Customer Address', 'Recipient Name',\n",
            "       'Recipient Address', 'Product Type', 'Description', 'Status',\n",
            "       'Driver Rating'],\n",
            "      dtype='object')\n",
            "Numerical Features: Index(['Duration (minutes)', 'Customer Mobile', 'Recipient Mobile',\n",
            "       'Distance (km)', 'Price (PHP)', 'Driver's Cut', 'App's Cut'],\n",
            "      dtype='object')\n"
          ]
        }
      ]
    },
    {
      "cell_type": "code",
      "execution_count": 7,
      "id": "422cc4d7-966b-4ea8-b991-df4a21f8ac64",
      "metadata": {
        "id": "422cc4d7-966b-4ea8-b991-df4a21f8ac64",
        "colab": {
          "base_uri": "https://localhost:8080/"
        },
        "outputId": "1233cbaa-59e3-4fc1-b7e2-0dae476636b5"
      },
      "outputs": [
        {
          "output_type": "stream",
          "name": "stdout",
          "text": [
            "Unique Values for Categorical Features:\n",
            " - Service Type: ['Parcel Delivery', 'Food Delivery', 'Customer Transportation'])\n",
            " - Time: ['12/11/2024 11:47', '12/11/2024 9:57', '11/11/2024 4:53', '10/11/2024 15:30', '10/11/2024 8:20', '10/11/2024 6:47', '10/11/2024 5:40', '09/11/2024 18:07', '09/11/2024 11:52', '09/11/2024 10:15', '...'])\n",
            " - Pick-up Point: ['BGC', 'San Juan', 'Binondo', 'Malate', 'Pateros', 'Sta. Ana', 'Intramuros'])\n",
            " - Destination (Drop-off): ['Pasig', 'Caloocan', 'Manila', 'Quezon City', 'Paranaque', 'Las Pinas', 'Makati', 'Taguig'])\n",
            " - Booking ID: ['BKG17455', 'BKG64506', 'BKG50146', 'BKG34424', 'BKG73399', 'BKG47490', 'BKG24052', 'BKG90067', 'BKG41042', 'BKG59553', '...'])\n",
            " - Customer Name: ['Ana De Jesus', 'Miguel Garcia', 'Juan Dela Cruz', 'Mark Tan', 'Lisa Macapagal', 'Liza Lim', 'Jose Rizal', 'Maria Santos', 'Pedro Reyes', 'Carmen Velasco'])\n",
            " - Customer Address: ['789 Burgos St.', '10 Rizal Dr.', '123 Main St.', '456 Market Ave.', '89 Kalayaan Rd.'])\n",
            " - Recipient Name: ['Mark Tan', 'Juan Dela Cruz', nan, 'Miguel Garcia', 'Liza Lim'])\n",
            " - Recipient Address: ['123 Main St.', '10 Rizal Dr.', nan, '89 Kalayaan Rd.', '789 Burgos St.', '456 Market Ave.'])\n",
            " - Product Type: ['Shoes', 'Documents', 'Mang Inasal', \"Max's\", 'Electronics', 'Jollibee', \"McDonald's\", nan, 'Food'])\n",
            " - Description: ['Size 9 sneakers, white', 'Confidential file documents', 'Halo-Halo', 'Fried Chicken, Pancit Canton, Lumpiang Shanghai', 'Smartphone with charger', 'Chickenjoy', 'Chicken Inasal, Pork BBQ, Halo-Halo', 'Fries', 'Pork BBQ, Halo-Halo', 'Lumpiang Shanghai, Fried Chicken, Pancit Canton', '...'])\n",
            " - Status: ['On the way to Pick-up Point', 'In-transit', 'Completed'])\n",
            " - Driver Rating: ['Pending', '3.2', '3.8', '3.6', '3.1', '4.5', '4', '3.3', '4.3', '4.1', '...'])\n",
            "\n"
          ]
        }
      ],
      "source": [
        "# Get Unique Values for Categorical Features with Limitation\n",
        "def get_unique_values(col, max_display=10):\n",
        "    uniques = df[col].unique().tolist() #get unique values and turn them into lists\n",
        "    if len(uniques) > max_display: #if there are more than 10 unique values\n",
        "        return uniques[:max_display] + ['...']\n",
        "    return uniques\n",
        "\n",
        "unique_values = {col: get_unique_values(col) for col in categorical_features}\n",
        "\n",
        "print(\"Unique Values for Categorical Features:\")\n",
        "for col, uniques in unique_values.items():\n",
        "    print(f\" - {col}: {uniques})\")\n",
        "print()\n"
      ]
    },
    {
      "cell_type": "code",
      "source": [
        "# Get Descriptive Statistics for Numerical Features\n",
        "numerical_stats = df[numerical_features].describe()\n",
        "print(\"Descriptive Statistics for Numerical Features:\\n\",numerical_stats)\n",
        "\n"
      ],
      "metadata": {
        "id": "CbfloRag9Kup",
        "colab": {
          "base_uri": "https://localhost:8080/"
        },
        "outputId": "7bd4867f-1375-4b3c-9e8f-827d2b95e7bc"
      },
      "id": "CbfloRag9Kup",
      "execution_count": 8,
      "outputs": [
        {
          "output_type": "stream",
          "name": "stdout",
          "text": [
            "Descriptive Statistics for Numerical Features:\n",
            "        Duration (minutes)  Customer Mobile  Recipient Mobile  Distance (km)  \\\n",
            "count           20.000000     2.000000e+01      8.000000e+00      20.000000   \n",
            "mean            60.612500     9.174241e+09      9.185185e+09      10.908000   \n",
            "std             27.337317     4.634525e+07      3.773285e+07       5.696432   \n",
            "min             17.880000     9.123457e+09      9.123457e+09       2.420000   \n",
            "25%             39.442500     9.127654e+09      9.180988e+09       6.550000   \n",
            "50%             62.645000     9.198765e+09      9.198765e+09      12.120000   \n",
            "75%             78.732500     9.203488e+09      9.203488e+09      15.455000   \n",
            "max            109.990000     9.234568e+09      9.217654e+09      18.780000   \n",
            "\n",
            "       Price (PHP)  Driver's Cut  App's Cut  \n",
            "count    20.000000     20.000000  20.000000  \n",
            "mean    221.496000    177.197000  44.299000  \n",
            "std     107.661246     86.128603  21.532644  \n",
            "min      77.060000     61.650000  15.410000  \n",
            "25%     127.915000    102.332500  25.582500  \n",
            "50%     234.725000    187.780000  46.945000  \n",
            "75%     324.887500    259.907500  64.980000  \n",
            "max     396.490000    317.190000  79.300000  \n"
          ]
        }
      ]
    },
    {
      "cell_type": "markdown",
      "source": [
        "## Generating the Template"
      ],
      "metadata": {
        "id": "7J1vcAcp-LO_"
      },
      "id": "7J1vcAcp-LO_"
    },
    {
      "cell_type": "code",
      "execution_count": 10,
      "id": "eddf122d-9766-408c-88df-b84ef9a649cf",
      "metadata": {
        "id": "eddf122d-9766-408c-88df-b84ef9a649cf"
      },
      "outputs": [],
      "source": [
        "def generate_template(df,\n",
        "                      column_info,\n",
        "                      categorical_features,\n",
        "                      numerical_features,\n",
        "                      unique_values,\n",
        "                      numerical_stats):\n",
        "\n",
        "    # Construct a summary of the dataframe's structure\n",
        "    column_summary = \"Column Names and Data Types: \\n\"\n",
        "    for col, dtype in column_info.items():\n",
        "        column_summary += f\" - {col}: {dtype}\\n\"\n",
        "\n",
        "    # Unique values for categorical features\n",
        "    unique_values_str = \"Unique Values for Categorical Features: \\n\"\n",
        "    for col, uniques in unique_values.items():\n",
        "        unique_values_str += f\" - {col}: {uniques}\\n\"\n",
        "\n",
        "    # Descriptive statistics for numerical features\n",
        "    numerical_stats_str = \"Descriptive Statistics for Numerical Features: \\n\"\n",
        "    for col in numerical_features:\n",
        "        numerical_stats_str += f\" - {col}:\\n\"\n",
        "        for stat_name, value in numerical_stats[col].items():\n",
        "            numerical_stats_str += f\"   - {stat_name}: {value}\\n\"\n",
        "\n",
        "    # Define the system prompt\n",
        "    system_prompt = \"\"\"\n",
        "        You are an intelligent assistant that creates descriptive templates for transforming dataframe rows into coherent paragraphs.\n",
        "        Analyze the provided dataframe structure and generate a template sentence that includes placeholders for each column.\n",
        "        Ensure the template is contextually relevant and maintains grammatical correctness.\n",
        "    \"\"\"\n",
        "\n",
        "    # Define the user prompt\n",
        "    user_prompt = f\"\"\"\n",
        "    Analyze the following dataframe structure and create a descriptive template with placeholders for each column.\n",
        "\n",
        "    <column_summary>\n",
        "    {column_summary}\n",
        "    </column_summary>\n",
        "\n",
        "    <unique_values>\n",
        "    {unique_values_str}\n",
        "    </unique_values>\n",
        "\n",
        "    <numerical_stats>\n",
        "    {numerical_stats_str}\n",
        "    </numerical_stats>\n",
        "\n",
        "    Use the exact column names from the column_summary in generating the variable names in the template,\n",
        "    as they will be populated with the actual values in the dataset.\n",
        "\n",
        "    Example Template about a Spotify dataset:\n",
        "    \"{{artist}} gained {{streams}} streams in the song '{{song}}' that was a hit in {{date}}.\"\n",
        "\n",
        "    - Output only the template without any explanation or introduction.\n",
        "    - The template's variables will be dynamically replaced so make sure they're formatted properly.\n",
        "    \"\"\"\n",
        "    # Generate the template (with retries)\n",
        "    retries = 3\n",
        "    for attempt in range(retries):\n",
        "        try:\n",
        "            response = openai.ChatCompletion.create(\n",
        "                model=\"gpt-4o-mini\",\n",
        "                temperature=0.4,\n",
        "                max_tokens=1024,\n",
        "                messages=[\n",
        "                    {\"role\": \"system\", \"content\": system_prompt},\n",
        "                    {\"role\": \"user\", \"content\": user_prompt}\n",
        "                ]\n",
        "            )\n",
        "            template = response['choices'][0]['message']['content'].strip()\n",
        "            return template\n",
        "        except Exception as e:\n",
        "            print(f\"Error generating template (Attempt {attempt + 1}/{retries}): {e}\")\n",
        "            time.sleep(2)  # Wait before retrying\n",
        "\n",
        "    return None"
      ]
    },
    {
      "cell_type": "code",
      "execution_count": 11,
      "id": "f8a0fd91-80de-4e08-8f86-44325a8accd3",
      "metadata": {
        "id": "f8a0fd91-80de-4e08-8f86-44325a8accd3",
        "colab": {
          "base_uri": "https://localhost:8080/"
        },
        "outputId": "dbbd89cf-ae32-4b72-fb56-c50bf4939d3f"
      },
      "outputs": [
        {
          "output_type": "stream",
          "name": "stdout",
          "text": [
            "\"In a {Service Type} service booked on {Time}, {Customer Name} from {Customer Address} requested a pick-up from {Pick-up Point} to {Destination (Drop-off)} with Booking ID {Booking ID}. The delivery, which took approximately {Duration (minutes)} minutes and covered a distance of {Distance (km)} km, involved transporting {Product Type} described as '{Description}'. The total price for this service was {Price (PHP)} PHP, with {Driver's Cut} PHP going to the driver and {App's Cut} PHP retained by the app. The status of the booking is currently '{Status}', and the driver received a rating of {Driver Rating}. For any inquiries, {Customer Name} can be reached at {Customer Mobile}, while the recipient, {Recipient Name}, can be contacted at {Recipient Mobile}.\"\n"
          ]
        }
      ],
      "source": [
        "# Generate the template\n",
        "template = generate_template(df, column_info, categorical_features, numerical_features, unique_values, numerical_stats)\n",
        "print(template)"
      ]
    },
    {
      "cell_type": "markdown",
      "source": [
        "## Populating the Template with Actual Values"
      ],
      "metadata": {
        "id": "VWPq3mcY-r40"
      },
      "id": "VWPq3mcY-r40"
    },
    {
      "cell_type": "code",
      "execution_count": 12,
      "id": "258e73ea-3500-49bb-9820-20637375dd55",
      "metadata": {
        "id": "258e73ea-3500-49bb-9820-20637375dd55"
      },
      "outputs": [],
      "source": [
        "def populate_template(template, row):\n",
        "\n",
        "    # Convert row to dictionary and replace NaN with 'N/A'\n",
        "    row_dict = row.to_dict()\n",
        "    for key in row_dict:\n",
        "        if pd.isna(row_dict[key]):\n",
        "            row_dict[key] = 'N/A'\n",
        "\n",
        "    # Generate the populated template per row\n",
        "    paragraph = template.format(**row_dict)\n",
        "\n",
        "    return paragraph\n"
      ]
    },
    {
      "cell_type": "code",
      "source": [
        "# Apply the populate_template function to each row in the dataframe\n",
        "df['paragraph'] = df.apply(lambda row: populate_template(template, row), axis=1)\n"
      ],
      "metadata": {
        "id": "rIhyXGSD_Ke4"
      },
      "id": "rIhyXGSD_Ke4",
      "execution_count": 13,
      "outputs": []
    },
    {
      "cell_type": "code",
      "source": [
        "df['paragraph'][0]"
      ],
      "metadata": {
        "colab": {
          "base_uri": "https://localhost:8080/",
          "height": 89
        },
        "id": "m54AYTOFWrz8",
        "outputId": "4f1de056-cd66-404f-d6ac-5415eaf98069"
      },
      "id": "m54AYTOFWrz8",
      "execution_count": 14,
      "outputs": [
        {
          "output_type": "execute_result",
          "data": {
            "text/plain": [
              "'\"In a Parcel Delivery service booked on 12/11/2024 11:47, Ana De Jesus from 789 Burgos St. requested a pick-up from BGC to Pasig with Booking ID BKG17455. The delivery, which took approximately 73.77 minutes and covered a distance of 13.47 km, involved transporting Shoes described as \\'Size 9 sneakers, white\\'. The total price for this service was 262.37 PHP, with 209.9 PHP going to the driver and 52.47 PHP retained by the app. The status of the booking is currently \\'On the way to Pick-up Point\\', and the driver received a rating of Pending. For any inquiries, Ana De Jesus can be reached at 9198765432, while the recipient, Mark Tan, can be contacted at 9217654329.0.\"'"
            ],
            "application/vnd.google.colaboratory.intrinsic+json": {
              "type": "string"
            }
          },
          "metadata": {},
          "execution_count": 14
        }
      ]
    },
    {
      "cell_type": "markdown",
      "source": [
        "## Saving the Populated Templates (Natural Language Texts)"
      ],
      "metadata": {
        "id": "bDO2V_0P_So1"
      },
      "id": "bDO2V_0P_So1"
    },
    {
      "cell_type": "code",
      "execution_count": 15,
      "id": "0b26a4d3-b3d9-448b-ae5e-f2c8960718cd",
      "metadata": {
        "id": "0b26a4d3-b3d9-448b-ae5e-f2c8960718cd"
      },
      "outputs": [],
      "source": [
        "def save_content_to_txt(paragraphs, txt_filename):\n",
        "    try:\n",
        "        with open(txt_filename, 'w', encoding='utf-8') as file:\n",
        "\n",
        "            for para in paragraphs:\n",
        "                file.write(para + '\\n\\n')  # Double newline for separation\n",
        "\n",
        "        print(f\"All content has been saved as '{txt_filename}'.\\n\")\n",
        "    except Exception as e:\n",
        "        print(f\"Error saving content to text file: {e}\")"
      ]
    },
    {
      "cell_type": "code",
      "execution_count": 16,
      "id": "cb501277-4548-4f79-8b1e-fedafcff856f",
      "metadata": {
        "id": "cb501277-4548-4f79-8b1e-fedafcff856f"
      },
      "outputs": [],
      "source": [
        "def save_content_to_pdf(paragraphs, pdf_filename):\n",
        "    try:\n",
        "        pdf = FPDF()\n",
        "        pdf.add_page()\n",
        "        pdf.set_auto_page_break(auto=True, margin=15)\n",
        "        pdf.set_font(\"Arial\", size=12)\n",
        "\n",
        "        # Add each paragraph\n",
        "        for para in paragraphs:\n",
        "            pdf.multi_cell(0, 10, para)\n",
        "            pdf.ln()  # Add a line break between paragraphs\n",
        "\n",
        "        pdf.output(pdf_filename)\n",
        "        print(f\"All content has been saved as '{pdf_filename}'.\\n\")\n",
        "    except Exception as e:\n",
        "        print(f\"Error saving content to PDF: {e}\")"
      ]
    },
    {
      "cell_type": "code",
      "execution_count": 17,
      "id": "9ee0ce02-95de-4634-bdb3-63e285b9031a",
      "metadata": {
        "id": "9ee0ce02-95de-4634-bdb3-63e285b9031a",
        "colab": {
          "base_uri": "https://localhost:8080/"
        },
        "outputId": "8b03163b-fcdb-4bf6-edab-a2e1646845d4"
      },
      "outputs": [
        {
          "output_type": "stream",
          "name": "stdout",
          "text": [
            "All content has been saved as 'nlg.txt'.\n",
            "\n",
            "All content has been saved as 'nlg.pdf'.\n",
            "\n"
          ]
        }
      ],
      "source": [
        "# Save the paragraphs to both text and PDF files\n",
        "save_content_to_txt(df['paragraph'].to_list(),\n",
        "                    txt_filename='nlg.txt')\n",
        "\n",
        "save_content_to_pdf(df['paragraph'].to_list(),\n",
        "                   pdf_filename='nlg.pdf')"
      ]
    }
  ],
  "metadata": {
    "kernelspec": {
      "display_name": "attic-proposals",
      "language": "python",
      "name": "attic-proposals"
    },
    "language_info": {
      "codemirror_mode": {
        "name": "ipython",
        "version": 3
      },
      "file_extension": ".py",
      "mimetype": "text/x-python",
      "name": "python",
      "nbconvert_exporter": "python",
      "pygments_lexer": "ipython3",
      "version": "3.11.0"
    },
    "colab": {
      "provenance": []
    }
  },
  "nbformat": 4,
  "nbformat_minor": 5
}